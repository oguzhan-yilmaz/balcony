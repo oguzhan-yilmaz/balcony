{
 "cells": [
  {
   "cell_type": "markdown",
   "id": "41adbb56",
   "metadata": {},
   "source": [
    "# How balcony works?\n",
    "This interactive notebook goes over the\n",
    "- biggest issues \n",
    "\n"
   ]
  },
  {
   "cell_type": "markdown",
   "id": "42ffa0b9",
   "metadata": {},
   "source": [
    "## The problem `balcony` solves\n",
    "- Reading resources from AWS API can have many developers writing the same boilerplate code\n",
    "- Some AWS Resource\n"
   ]
  },
  {
   "cell_type": "code",
   "execution_count": 2,
   "id": "ccae58a0",
   "metadata": {},
   "outputs": [
    {
     "data": {
      "text/html": [
       "<pre style=\"white-space:pre;overflow-x:auto;line-height:normal;font-family:Menlo,'DejaVu Sans Mono',consolas,'Courier New',monospace\"><span style=\"font-weight: bold\">&lt;</span><span style=\"color: #ff00ff; text-decoration-color: #ff00ff; font-weight: bold\">botocore.client.IAM</span><span style=\"color: #000000; text-decoration-color: #000000\"> object at </span><span style=\"color: #008080; text-decoration-color: #008080; font-weight: bold\">0x107e412a0</span><span style=\"font-weight: bold\">&gt;</span>\n",
       "</pre>\n"
      ],
      "text/plain": [
       "\u001b[1m<\u001b[0m\u001b[1;95mbotocore.client.IAM\u001b[0m\u001b[39m object at \u001b[0m\u001b[1;36m0x107e412a0\u001b[0m\u001b[1m>\u001b[0m\n"
      ]
     },
     "metadata": {},
     "output_type": "display_data"
    }
   ],
   "source": [
    "from rich.jupyter import print\n",
    "import boto3\n",
    "# lets create the boto3 session\n",
    "session = boto3.session.Session()\n",
    "# get the iam client\n",
    "iam_client = session.client('iam')\n",
    "print(iam_client)"
   ]
  },
  {
   "cell_type": "markdown",
   "id": "ef4ca4d5",
   "metadata": {},
   "source": [
    "# issue 1 "
   ]
  },
  {
   "cell_type": "code",
   "execution_count": 9,
   "id": "cca62872",
   "metadata": {},
   "outputs": [
    {
     "data": {
      "text/plain": [
       "{'add_client_id_to_open_id_connect_provider': 'AddClientIDToOpenIDConnectProvider',\n",
       " 'add_role_to_instance_profile': 'AddRoleToInstanceProfile',\n",
       " 'add_user_to_group': 'AddUserToGroup',\n",
       " 'attach_group_policy': 'AttachGroupPolicy',\n",
       " 'attach_role_policy': 'AttachRolePolicy',\n",
       " 'attach_user_policy': 'AttachUserPolicy',\n",
       " 'change_password': 'ChangePassword',\n",
       " 'create_access_key': 'CreateAccessKey',\n",
       " 'create_account_alias': 'CreateAccountAlias',\n",
       " 'create_group': 'CreateGroup',\n",
       " 'create_instance_profile': 'CreateInstanceProfile',\n",
       " 'create_login_profile': 'CreateLoginProfile',\n",
       " 'create_open_id_connect_provider': 'CreateOpenIDConnectProvider',\n",
       " 'create_policy': 'CreatePolicy',\n",
       " 'create_policy_version': 'CreatePolicyVersion',\n",
       " 'create_role': 'CreateRole',\n",
       " 'create_saml_provider': 'CreateSAMLProvider',\n",
       " 'create_service_linked_role': 'CreateServiceLinkedRole',\n",
       " 'create_service_specific_credential': 'CreateServiceSpecificCredential',\n",
       " 'create_user': 'CreateUser',\n",
       " 'create_virtual_mfa_device': 'CreateVirtualMFADevice',\n",
       " 'deactivate_mfa_device': 'DeactivateMFADevice',\n",
       " 'delete_access_key': 'DeleteAccessKey',\n",
       " 'delete_account_alias': 'DeleteAccountAlias',\n",
       " 'delete_account_password_policy': 'DeleteAccountPasswordPolicy',\n",
       " 'delete_group': 'DeleteGroup',\n",
       " 'delete_group_policy': 'DeleteGroupPolicy',\n",
       " 'delete_instance_profile': 'DeleteInstanceProfile',\n",
       " 'delete_login_profile': 'DeleteLoginProfile',\n",
       " 'delete_open_id_connect_provider': 'DeleteOpenIDConnectProvider',\n",
       " 'delete_policy': 'DeletePolicy',\n",
       " 'delete_policy_version': 'DeletePolicyVersion',\n",
       " 'delete_role': 'DeleteRole',\n",
       " 'delete_role_permissions_boundary': 'DeleteRolePermissionsBoundary',\n",
       " 'delete_role_policy': 'DeleteRolePolicy',\n",
       " 'delete_saml_provider': 'DeleteSAMLProvider',\n",
       " 'delete_ssh_public_key': 'DeleteSSHPublicKey',\n",
       " 'delete_server_certificate': 'DeleteServerCertificate',\n",
       " 'delete_service_linked_role': 'DeleteServiceLinkedRole',\n",
       " 'delete_service_specific_credential': 'DeleteServiceSpecificCredential',\n",
       " 'delete_signing_certificate': 'DeleteSigningCertificate',\n",
       " 'delete_user': 'DeleteUser',\n",
       " 'delete_user_permissions_boundary': 'DeleteUserPermissionsBoundary',\n",
       " 'delete_user_policy': 'DeleteUserPolicy',\n",
       " 'delete_virtual_mfa_device': 'DeleteVirtualMFADevice',\n",
       " 'detach_group_policy': 'DetachGroupPolicy',\n",
       " 'detach_role_policy': 'DetachRolePolicy',\n",
       " 'detach_user_policy': 'DetachUserPolicy',\n",
       " 'enable_mfa_device': 'EnableMFADevice',\n",
       " 'generate_credential_report': 'GenerateCredentialReport',\n",
       " 'generate_organizations_access_report': 'GenerateOrganizationsAccessReport',\n",
       " 'generate_service_last_accessed_details': 'GenerateServiceLastAccessedDetails',\n",
       " 'get_access_key_last_used': 'GetAccessKeyLastUsed',\n",
       " 'get_account_authorization_details': 'GetAccountAuthorizationDetails',\n",
       " 'get_account_password_policy': 'GetAccountPasswordPolicy',\n",
       " 'get_account_summary': 'GetAccountSummary',\n",
       " 'get_context_keys_for_custom_policy': 'GetContextKeysForCustomPolicy',\n",
       " 'get_context_keys_for_principal_policy': 'GetContextKeysForPrincipalPolicy',\n",
       " 'get_credential_report': 'GetCredentialReport',\n",
       " 'get_group': 'GetGroup',\n",
       " 'get_group_policy': 'GetGroupPolicy',\n",
       " 'get_instance_profile': 'GetInstanceProfile',\n",
       " 'get_login_profile': 'GetLoginProfile',\n",
       " 'get_open_id_connect_provider': 'GetOpenIDConnectProvider',\n",
       " 'get_organizations_access_report': 'GetOrganizationsAccessReport',\n",
       " 'get_policy': 'GetPolicy',\n",
       " 'get_policy_version': 'GetPolicyVersion',\n",
       " 'get_role': 'GetRole',\n",
       " 'get_role_policy': 'GetRolePolicy',\n",
       " 'get_saml_provider': 'GetSAMLProvider',\n",
       " 'get_ssh_public_key': 'GetSSHPublicKey',\n",
       " 'get_server_certificate': 'GetServerCertificate',\n",
       " 'get_service_last_accessed_details': 'GetServiceLastAccessedDetails',\n",
       " 'get_service_last_accessed_details_with_entities': 'GetServiceLastAccessedDetailsWithEntities',\n",
       " 'get_service_linked_role_deletion_status': 'GetServiceLinkedRoleDeletionStatus',\n",
       " 'get_user': 'GetUser',\n",
       " 'get_user_policy': 'GetUserPolicy',\n",
       " 'list_access_keys': 'ListAccessKeys',\n",
       " 'list_account_aliases': 'ListAccountAliases',\n",
       " 'list_attached_group_policies': 'ListAttachedGroupPolicies',\n",
       " 'list_attached_role_policies': 'ListAttachedRolePolicies',\n",
       " 'list_attached_user_policies': 'ListAttachedUserPolicies',\n",
       " 'list_entities_for_policy': 'ListEntitiesForPolicy',\n",
       " 'list_group_policies': 'ListGroupPolicies',\n",
       " 'list_groups': 'ListGroups',\n",
       " 'list_groups_for_user': 'ListGroupsForUser',\n",
       " 'list_instance_profile_tags': 'ListInstanceProfileTags',\n",
       " 'list_instance_profiles': 'ListInstanceProfiles',\n",
       " 'list_instance_profiles_for_role': 'ListInstanceProfilesForRole',\n",
       " 'list_mfa_device_tags': 'ListMFADeviceTags',\n",
       " 'list_mfa_devices': 'ListMFADevices',\n",
       " 'list_open_id_connect_provider_tags': 'ListOpenIDConnectProviderTags',\n",
       " 'list_open_id_connect_providers': 'ListOpenIDConnectProviders',\n",
       " 'list_policies': 'ListPolicies',\n",
       " 'list_policies_granting_service_access': 'ListPoliciesGrantingServiceAccess',\n",
       " 'list_policy_tags': 'ListPolicyTags',\n",
       " 'list_policy_versions': 'ListPolicyVersions',\n",
       " 'list_role_policies': 'ListRolePolicies',\n",
       " 'list_role_tags': 'ListRoleTags',\n",
       " 'list_roles': 'ListRoles',\n",
       " 'list_saml_provider_tags': 'ListSAMLProviderTags',\n",
       " 'list_saml_providers': 'ListSAMLProviders',\n",
       " 'list_ssh_public_keys': 'ListSSHPublicKeys',\n",
       " 'list_server_certificate_tags': 'ListServerCertificateTags',\n",
       " 'list_server_certificates': 'ListServerCertificates',\n",
       " 'list_service_specific_credentials': 'ListServiceSpecificCredentials',\n",
       " 'list_signing_certificates': 'ListSigningCertificates',\n",
       " 'list_user_policies': 'ListUserPolicies',\n",
       " 'list_user_tags': 'ListUserTags',\n",
       " 'list_users': 'ListUsers',\n",
       " 'list_virtual_mfa_devices': 'ListVirtualMFADevices',\n",
       " 'put_group_policy': 'PutGroupPolicy',\n",
       " 'put_role_permissions_boundary': 'PutRolePermissionsBoundary',\n",
       " 'put_role_policy': 'PutRolePolicy',\n",
       " 'put_user_permissions_boundary': 'PutUserPermissionsBoundary',\n",
       " 'put_user_policy': 'PutUserPolicy',\n",
       " 'remove_client_id_from_open_id_connect_provider': 'RemoveClientIDFromOpenIDConnectProvider',\n",
       " 'remove_role_from_instance_profile': 'RemoveRoleFromInstanceProfile',\n",
       " 'remove_user_from_group': 'RemoveUserFromGroup',\n",
       " 'reset_service_specific_credential': 'ResetServiceSpecificCredential',\n",
       " 'resync_mfa_device': 'ResyncMFADevice',\n",
       " 'set_default_policy_version': 'SetDefaultPolicyVersion',\n",
       " 'set_security_token_service_preferences': 'SetSecurityTokenServicePreferences',\n",
       " 'simulate_custom_policy': 'SimulateCustomPolicy',\n",
       " 'simulate_principal_policy': 'SimulatePrincipalPolicy',\n",
       " 'tag_instance_profile': 'TagInstanceProfile',\n",
       " 'tag_mfa_device': 'TagMFADevice',\n",
       " 'tag_open_id_connect_provider': 'TagOpenIDConnectProvider',\n",
       " 'tag_policy': 'TagPolicy',\n",
       " 'tag_role': 'TagRole',\n",
       " 'tag_saml_provider': 'TagSAMLProvider',\n",
       " 'tag_server_certificate': 'TagServerCertificate',\n",
       " 'tag_user': 'TagUser',\n",
       " 'untag_instance_profile': 'UntagInstanceProfile',\n",
       " 'untag_mfa_device': 'UntagMFADevice',\n",
       " 'untag_open_id_connect_provider': 'UntagOpenIDConnectProvider',\n",
       " 'untag_policy': 'UntagPolicy',\n",
       " 'untag_role': 'UntagRole',\n",
       " 'untag_saml_provider': 'UntagSAMLProvider',\n",
       " 'untag_server_certificate': 'UntagServerCertificate',\n",
       " 'untag_user': 'UntagUser',\n",
       " 'update_access_key': 'UpdateAccessKey',\n",
       " 'update_account_password_policy': 'UpdateAccountPasswordPolicy',\n",
       " 'update_assume_role_policy': 'UpdateAssumeRolePolicy',\n",
       " 'update_group': 'UpdateGroup',\n",
       " 'update_login_profile': 'UpdateLoginProfile',\n",
       " 'update_open_id_connect_provider_thumbprint': 'UpdateOpenIDConnectProviderThumbprint',\n",
       " 'update_role': 'UpdateRole',\n",
       " 'update_role_description': 'UpdateRoleDescription',\n",
       " 'update_saml_provider': 'UpdateSAMLProvider',\n",
       " 'update_ssh_public_key': 'UpdateSSHPublicKey',\n",
       " 'update_server_certificate': 'UpdateServerCertificate',\n",
       " 'update_service_specific_credential': 'UpdateServiceSpecificCredential',\n",
       " 'update_signing_certificate': 'UpdateSigningCertificate',\n",
       " 'update_user': 'UpdateUser',\n",
       " 'upload_ssh_public_key': 'UploadSSHPublicKey',\n",
       " 'upload_server_certificate': 'UploadServerCertificate',\n",
       " 'upload_signing_certificate': 'UploadSigningCertificate'}"
      ]
     },
     "execution_count": 9,
     "metadata": {},
     "output_type": "execute_result"
    }
   ],
   "source": [
    "iam_client._PY_TO_OP_NAME"
   ]
  },
  {
   "cell_type": "code",
   "execution_count": 7,
   "id": "adb3de79",
   "metadata": {},
   "outputs": [
    {
     "data": {
      "text/html": [
       "<pre style=\"white-space:pre;overflow-x:auto;line-height:normal;font-family:Menlo,'DejaVu Sans Mono',consolas,'Courier New',monospace\">AWS Service: iam\n",
       "</pre>\n"
      ],
      "text/plain": [
       "AWS Service: iam\n"
      ]
     },
     "metadata": {},
     "output_type": "display_data"
    },
    {
     "data": {
      "text/html": [
       "<pre style=\"white-space:pre;overflow-x:auto;line-height:normal;font-family:Menlo,'DejaVu Sans Mono',consolas,'Courier New',monospace\"><span style=\"color: #008080; text-decoration-color: #008080; font-weight: bold\">0</span>. <span style=\"color: #808000; text-decoration-color: #808000\">AccessKeyLastUsed</span>  Operations: <span style=\"font-weight: bold\">[</span><span style=\"color: #008000; text-decoration-color: #008000\">'GetAccessKeyLastUsed'</span><span style=\"font-weight: bold\">]</span>\n",
       "</pre>\n"
      ],
      "text/plain": [
       "\u001b[1;36m0\u001b[0m. \u001b[33mAccessKeyLastUsed\u001b[0m  Operations: \u001b[1m[\u001b[0m\u001b[32m'GetAccessKeyLastUsed'\u001b[0m\u001b[1m]\u001b[0m\n"
      ]
     },
     "metadata": {},
     "output_type": "display_data"
    },
    {
     "data": {
      "text/html": [
       "<pre style=\"white-space:pre;overflow-x:auto;line-height:normal;font-family:Menlo,'DejaVu Sans Mono',consolas,'Courier New',monospace\"><span style=\"color: #008080; text-decoration-color: #008080; font-weight: bold\">1</span>. <span style=\"color: #808000; text-decoration-color: #808000\">AccountAuthorizationDetails</span>  Operations: <span style=\"font-weight: bold\">[</span><span style=\"color: #008000; text-decoration-color: #008000\">'GetAccountAuthorizationDetails'</span><span style=\"font-weight: bold\">]</span>\n",
       "</pre>\n"
      ],
      "text/plain": [
       "\u001b[1;36m1\u001b[0m. \u001b[33mAccountAuthorizationDetails\u001b[0m  Operations: \u001b[1m[\u001b[0m\u001b[32m'GetAccountAuthorizationDetails'\u001b[0m\u001b[1m]\u001b[0m\n"
      ]
     },
     "metadata": {},
     "output_type": "display_data"
    },
    {
     "data": {
      "text/html": [
       "<pre style=\"white-space:pre;overflow-x:auto;line-height:normal;font-family:Menlo,'DejaVu Sans Mono',consolas,'Courier New',monospace\"><span style=\"color: #008080; text-decoration-color: #008080; font-weight: bold\">2</span>. <span style=\"color: #808000; text-decoration-color: #808000\">AccountPasswordPolicy</span>  Operations: <span style=\"font-weight: bold\">[</span><span style=\"color: #008000; text-decoration-color: #008000\">'GetAccountPasswordPolicy'</span><span style=\"font-weight: bold\">]</span>\n",
       "</pre>\n"
      ],
      "text/plain": [
       "\u001b[1;36m2\u001b[0m. \u001b[33mAccountPasswordPolicy\u001b[0m  Operations: \u001b[1m[\u001b[0m\u001b[32m'GetAccountPasswordPolicy'\u001b[0m\u001b[1m]\u001b[0m\n"
      ]
     },
     "metadata": {},
     "output_type": "display_data"
    },
    {
     "data": {
      "text/html": [
       "<pre style=\"white-space:pre;overflow-x:auto;line-height:normal;font-family:Menlo,'DejaVu Sans Mono',consolas,'Courier New',monospace\"><span style=\"color: #008080; text-decoration-color: #008080; font-weight: bold\">3</span>. <span style=\"color: #808000; text-decoration-color: #808000\">AccountSummary</span>  Operations: <span style=\"font-weight: bold\">[</span><span style=\"color: #008000; text-decoration-color: #008000\">'GetAccountSummary'</span><span style=\"font-weight: bold\">]</span>\n",
       "</pre>\n"
      ],
      "text/plain": [
       "\u001b[1;36m3\u001b[0m. \u001b[33mAccountSummary\u001b[0m  Operations: \u001b[1m[\u001b[0m\u001b[32m'GetAccountSummary'\u001b[0m\u001b[1m]\u001b[0m\n"
      ]
     },
     "metadata": {},
     "output_type": "display_data"
    },
    {
     "data": {
      "text/html": [
       "<pre style=\"white-space:pre;overflow-x:auto;line-height:normal;font-family:Menlo,'DejaVu Sans Mono',consolas,'Courier New',monospace\"><span style=\"color: #008080; text-decoration-color: #008080; font-weight: bold\">4</span>. <span style=\"color: #808000; text-decoration-color: #808000\">ContextKeysForCustomPolicy</span>  Operations: <span style=\"font-weight: bold\">[</span><span style=\"color: #008000; text-decoration-color: #008000\">'GetContextKeysForCustomPolicy'</span><span style=\"font-weight: bold\">]</span>\n",
       "</pre>\n"
      ],
      "text/plain": [
       "\u001b[1;36m4\u001b[0m. \u001b[33mContextKeysForCustomPolicy\u001b[0m  Operations: \u001b[1m[\u001b[0m\u001b[32m'GetContextKeysForCustomPolicy'\u001b[0m\u001b[1m]\u001b[0m\n"
      ]
     },
     "metadata": {},
     "output_type": "display_data"
    },
    {
     "data": {
      "text/html": [
       "<pre style=\"white-space:pre;overflow-x:auto;line-height:normal;font-family:Menlo,'DejaVu Sans Mono',consolas,'Courier New',monospace\"><span style=\"color: #008080; text-decoration-color: #008080; font-weight: bold\">5</span>. <span style=\"color: #808000; text-decoration-color: #808000\">ContextKeysForPrincipalPolicy</span>  Operations: <span style=\"font-weight: bold\">[</span><span style=\"color: #008000; text-decoration-color: #008000\">'GetContextKeysForPrincipalPolicy'</span><span style=\"font-weight: bold\">]</span>\n",
       "</pre>\n"
      ],
      "text/plain": [
       "\u001b[1;36m5\u001b[0m. \u001b[33mContextKeysForPrincipalPolicy\u001b[0m  Operations: \u001b[1m[\u001b[0m\u001b[32m'GetContextKeysForPrincipalPolicy'\u001b[0m\u001b[1m]\u001b[0m\n"
      ]
     },
     "metadata": {},
     "output_type": "display_data"
    },
    {
     "data": {
      "text/html": [
       "<pre style=\"white-space:pre;overflow-x:auto;line-height:normal;font-family:Menlo,'DejaVu Sans Mono',consolas,'Courier New',monospace\"><span style=\"color: #008080; text-decoration-color: #008080; font-weight: bold\">6</span>. <span style=\"color: #808000; text-decoration-color: #808000\">CredentialReport</span>  Operations: <span style=\"font-weight: bold\">[</span><span style=\"color: #008000; text-decoration-color: #008000\">'GetCredentialReport'</span><span style=\"font-weight: bold\">]</span>\n",
       "</pre>\n"
      ],
      "text/plain": [
       "\u001b[1;36m6\u001b[0m. \u001b[33mCredentialReport\u001b[0m  Operations: \u001b[1m[\u001b[0m\u001b[32m'GetCredentialReport'\u001b[0m\u001b[1m]\u001b[0m\n"
      ]
     },
     "metadata": {},
     "output_type": "display_data"
    },
    {
     "data": {
      "text/html": [
       "<pre style=\"white-space:pre;overflow-x:auto;line-height:normal;font-family:Menlo,'DejaVu Sans Mono',consolas,'Courier New',monospace\"><span style=\"color: #008080; text-decoration-color: #008080; font-weight: bold\">7</span>. <span style=\"color: #808000; text-decoration-color: #808000\">Group</span>  Operations: <span style=\"font-weight: bold\">[</span><span style=\"color: #008000; text-decoration-color: #008000\">'GetGroup'</span>, <span style=\"color: #008000; text-decoration-color: #008000\">'ListGroups'</span><span style=\"font-weight: bold\">]</span>\n",
       "</pre>\n"
      ],
      "text/plain": [
       "\u001b[1;36m7\u001b[0m. \u001b[33mGroup\u001b[0m  Operations: \u001b[1m[\u001b[0m\u001b[32m'GetGroup'\u001b[0m, \u001b[32m'ListGroups'\u001b[0m\u001b[1m]\u001b[0m\n"
      ]
     },
     "metadata": {},
     "output_type": "display_data"
    },
    {
     "data": {
      "text/html": [
       "<pre style=\"white-space:pre;overflow-x:auto;line-height:normal;font-family:Menlo,'DejaVu Sans Mono',consolas,'Courier New',monospace\"><span style=\"color: #008080; text-decoration-color: #008080; font-weight: bold\">8</span>. <span style=\"color: #808000; text-decoration-color: #808000\">GroupPolicy</span>  Operations: <span style=\"font-weight: bold\">[</span><span style=\"color: #008000; text-decoration-color: #008000\">'GetGroupPolicy'</span>, <span style=\"color: #008000; text-decoration-color: #008000\">'ListGroupPolicies'</span><span style=\"font-weight: bold\">]</span>\n",
       "</pre>\n"
      ],
      "text/plain": [
       "\u001b[1;36m8\u001b[0m. \u001b[33mGroupPolicy\u001b[0m  Operations: \u001b[1m[\u001b[0m\u001b[32m'GetGroupPolicy'\u001b[0m, \u001b[32m'ListGroupPolicies'\u001b[0m\u001b[1m]\u001b[0m\n"
      ]
     },
     "metadata": {},
     "output_type": "display_data"
    },
    {
     "data": {
      "text/html": [
       "<pre style=\"white-space:pre;overflow-x:auto;line-height:normal;font-family:Menlo,'DejaVu Sans Mono',consolas,'Courier New',monospace\"><span style=\"color: #008080; text-decoration-color: #008080; font-weight: bold\">9</span>. <span style=\"color: #808000; text-decoration-color: #808000\">InstanceProfile</span>  Operations: <span style=\"font-weight: bold\">[</span><span style=\"color: #008000; text-decoration-color: #008000\">'GetInstanceProfile'</span>, <span style=\"color: #008000; text-decoration-color: #008000\">'ListInstanceProfiles'</span><span style=\"font-weight: bold\">]</span>\n",
       "</pre>\n"
      ],
      "text/plain": [
       "\u001b[1;36m9\u001b[0m. \u001b[33mInstanceProfile\u001b[0m  Operations: \u001b[1m[\u001b[0m\u001b[32m'GetInstanceProfile'\u001b[0m, \u001b[32m'ListInstanceProfiles'\u001b[0m\u001b[1m]\u001b[0m\n"
      ]
     },
     "metadata": {},
     "output_type": "display_data"
    },
    {
     "data": {
      "text/html": [
       "<pre style=\"white-space:pre;overflow-x:auto;line-height:normal;font-family:Menlo,'DejaVu Sans Mono',consolas,'Courier New',monospace\"><span style=\"color: #008080; text-decoration-color: #008080; font-weight: bold\">10</span>. <span style=\"color: #808000; text-decoration-color: #808000\">LoginProfile</span>  Operations: <span style=\"font-weight: bold\">[</span><span style=\"color: #008000; text-decoration-color: #008000\">'GetLoginProfile'</span><span style=\"font-weight: bold\">]</span>\n",
       "</pre>\n"
      ],
      "text/plain": [
       "\u001b[1;36m10\u001b[0m. \u001b[33mLoginProfile\u001b[0m  Operations: \u001b[1m[\u001b[0m\u001b[32m'GetLoginProfile'\u001b[0m\u001b[1m]\u001b[0m\n"
      ]
     },
     "metadata": {},
     "output_type": "display_data"
    },
    {
     "data": {
      "text/html": [
       "<pre style=\"white-space:pre;overflow-x:auto;line-height:normal;font-family:Menlo,'DejaVu Sans Mono',consolas,'Courier New',monospace\"><span style=\"color: #008080; text-decoration-color: #008080; font-weight: bold\">11</span>. <span style=\"color: #808000; text-decoration-color: #808000\">OpenIDConnectProvider</span>  Operations: <span style=\"font-weight: bold\">[</span><span style=\"color: #008000; text-decoration-color: #008000\">'GetOpenIDConnectProvider'</span>, <span style=\"color: #008000; text-decoration-color: #008000\">'ListOpenIDConnectProviders'</span><span style=\"font-weight: bold\">]</span>\n",
       "</pre>\n"
      ],
      "text/plain": [
       "\u001b[1;36m11\u001b[0m. \u001b[33mOpenIDConnectProvider\u001b[0m  Operations: \u001b[1m[\u001b[0m\u001b[32m'GetOpenIDConnectProvider'\u001b[0m, \u001b[32m'ListOpenIDConnectProviders'\u001b[0m\u001b[1m]\u001b[0m\n"
      ]
     },
     "metadata": {},
     "output_type": "display_data"
    },
    {
     "data": {
      "text/html": [
       "<pre style=\"white-space:pre;overflow-x:auto;line-height:normal;font-family:Menlo,'DejaVu Sans Mono',consolas,'Courier New',monospace\"><span style=\"color: #008080; text-decoration-color: #008080; font-weight: bold\">12</span>. <span style=\"color: #808000; text-decoration-color: #808000\">OrganizationsAccessReport</span>  Operations: <span style=\"font-weight: bold\">[</span><span style=\"color: #008000; text-decoration-color: #008000\">'GetOrganizationsAccessReport'</span><span style=\"font-weight: bold\">]</span>\n",
       "</pre>\n"
      ],
      "text/plain": [
       "\u001b[1;36m12\u001b[0m. \u001b[33mOrganizationsAccessReport\u001b[0m  Operations: \u001b[1m[\u001b[0m\u001b[32m'GetOrganizationsAccessReport'\u001b[0m\u001b[1m]\u001b[0m\n"
      ]
     },
     "metadata": {},
     "output_type": "display_data"
    },
    {
     "data": {
      "text/html": [
       "<pre style=\"white-space:pre;overflow-x:auto;line-height:normal;font-family:Menlo,'DejaVu Sans Mono',consolas,'Courier New',monospace\"><span style=\"color: #008080; text-decoration-color: #008080; font-weight: bold\">13</span>. <span style=\"color: #808000; text-decoration-color: #808000\">Policy</span>  Operations: <span style=\"font-weight: bold\">[</span><span style=\"color: #008000; text-decoration-color: #008000\">'GetPolicy'</span>, <span style=\"color: #008000; text-decoration-color: #008000\">'ListPolicies'</span><span style=\"font-weight: bold\">]</span>\n",
       "</pre>\n"
      ],
      "text/plain": [
       "\u001b[1;36m13\u001b[0m. \u001b[33mPolicy\u001b[0m  Operations: \u001b[1m[\u001b[0m\u001b[32m'GetPolicy'\u001b[0m, \u001b[32m'ListPolicies'\u001b[0m\u001b[1m]\u001b[0m\n"
      ]
     },
     "metadata": {},
     "output_type": "display_data"
    },
    {
     "data": {
      "text/html": [
       "<pre style=\"white-space:pre;overflow-x:auto;line-height:normal;font-family:Menlo,'DejaVu Sans Mono',consolas,'Courier New',monospace\"><span style=\"color: #008080; text-decoration-color: #008080; font-weight: bold\">14</span>. <span style=\"color: #808000; text-decoration-color: #808000\">PolicyVersion</span>  Operations: <span style=\"font-weight: bold\">[</span><span style=\"color: #008000; text-decoration-color: #008000\">'GetPolicyVersion'</span>, <span style=\"color: #008000; text-decoration-color: #008000\">'ListPolicyVersions'</span><span style=\"font-weight: bold\">]</span>\n",
       "</pre>\n"
      ],
      "text/plain": [
       "\u001b[1;36m14\u001b[0m. \u001b[33mPolicyVersion\u001b[0m  Operations: \u001b[1m[\u001b[0m\u001b[32m'GetPolicyVersion'\u001b[0m, \u001b[32m'ListPolicyVersions'\u001b[0m\u001b[1m]\u001b[0m\n"
      ]
     },
     "metadata": {},
     "output_type": "display_data"
    },
    {
     "data": {
      "text/html": [
       "<pre style=\"white-space:pre;overflow-x:auto;line-height:normal;font-family:Menlo,'DejaVu Sans Mono',consolas,'Courier New',monospace\"><span style=\"color: #008080; text-decoration-color: #008080; font-weight: bold\">15</span>. <span style=\"color: #808000; text-decoration-color: #808000\">Role</span>  Operations: <span style=\"font-weight: bold\">[</span><span style=\"color: #008000; text-decoration-color: #008000\">'GetRole'</span>, <span style=\"color: #008000; text-decoration-color: #008000\">'ListRoles'</span><span style=\"font-weight: bold\">]</span>\n",
       "</pre>\n"
      ],
      "text/plain": [
       "\u001b[1;36m15\u001b[0m. \u001b[33mRole\u001b[0m  Operations: \u001b[1m[\u001b[0m\u001b[32m'GetRole'\u001b[0m, \u001b[32m'ListRoles'\u001b[0m\u001b[1m]\u001b[0m\n"
      ]
     },
     "metadata": {},
     "output_type": "display_data"
    },
    {
     "data": {
      "text/html": [
       "<pre style=\"white-space:pre;overflow-x:auto;line-height:normal;font-family:Menlo,'DejaVu Sans Mono',consolas,'Courier New',monospace\"><span style=\"color: #008080; text-decoration-color: #008080; font-weight: bold\">16</span>. <span style=\"color: #808000; text-decoration-color: #808000\">RolePolicy</span>  Operations: <span style=\"font-weight: bold\">[</span><span style=\"color: #008000; text-decoration-color: #008000\">'GetRolePolicy'</span>, <span style=\"color: #008000; text-decoration-color: #008000\">'ListRolePolicies'</span><span style=\"font-weight: bold\">]</span>\n",
       "</pre>\n"
      ],
      "text/plain": [
       "\u001b[1;36m16\u001b[0m. \u001b[33mRolePolicy\u001b[0m  Operations: \u001b[1m[\u001b[0m\u001b[32m'GetRolePolicy'\u001b[0m, \u001b[32m'ListRolePolicies'\u001b[0m\u001b[1m]\u001b[0m\n"
      ]
     },
     "metadata": {},
     "output_type": "display_data"
    },
    {
     "data": {
      "text/html": [
       "<pre style=\"white-space:pre;overflow-x:auto;line-height:normal;font-family:Menlo,'DejaVu Sans Mono',consolas,'Courier New',monospace\"><span style=\"color: #008080; text-decoration-color: #008080; font-weight: bold\">17</span>. <span style=\"color: #808000; text-decoration-color: #808000\">SAMLProvider</span>  Operations: <span style=\"font-weight: bold\">[</span><span style=\"color: #008000; text-decoration-color: #008000\">'GetSAMLProvider'</span>, <span style=\"color: #008000; text-decoration-color: #008000\">'ListSAMLProviders'</span><span style=\"font-weight: bold\">]</span>\n",
       "</pre>\n"
      ],
      "text/plain": [
       "\u001b[1;36m17\u001b[0m. \u001b[33mSAMLProvider\u001b[0m  Operations: \u001b[1m[\u001b[0m\u001b[32m'GetSAMLProvider'\u001b[0m, \u001b[32m'ListSAMLProviders'\u001b[0m\u001b[1m]\u001b[0m\n"
      ]
     },
     "metadata": {},
     "output_type": "display_data"
    },
    {
     "data": {
      "text/html": [
       "<pre style=\"white-space:pre;overflow-x:auto;line-height:normal;font-family:Menlo,'DejaVu Sans Mono',consolas,'Courier New',monospace\"><span style=\"color: #008080; text-decoration-color: #008080; font-weight: bold\">18</span>. <span style=\"color: #808000; text-decoration-color: #808000\">SSHPublicKey</span>  Operations: <span style=\"font-weight: bold\">[</span><span style=\"color: #008000; text-decoration-color: #008000\">'GetSSHPublicKey'</span>, <span style=\"color: #008000; text-decoration-color: #008000\">'ListSSHPublicKeys'</span><span style=\"font-weight: bold\">]</span>\n",
       "</pre>\n"
      ],
      "text/plain": [
       "\u001b[1;36m18\u001b[0m. \u001b[33mSSHPublicKey\u001b[0m  Operations: \u001b[1m[\u001b[0m\u001b[32m'GetSSHPublicKey'\u001b[0m, \u001b[32m'ListSSHPublicKeys'\u001b[0m\u001b[1m]\u001b[0m\n"
      ]
     },
     "metadata": {},
     "output_type": "display_data"
    },
    {
     "data": {
      "text/html": [
       "<pre style=\"white-space:pre;overflow-x:auto;line-height:normal;font-family:Menlo,'DejaVu Sans Mono',consolas,'Courier New',monospace\"><span style=\"color: #008080; text-decoration-color: #008080; font-weight: bold\">19</span>. <span style=\"color: #808000; text-decoration-color: #808000\">ServerCertificate</span>  Operations: <span style=\"font-weight: bold\">[</span><span style=\"color: #008000; text-decoration-color: #008000\">'GetServerCertificate'</span>, <span style=\"color: #008000; text-decoration-color: #008000\">'ListServerCertificates'</span><span style=\"font-weight: bold\">]</span>\n",
       "</pre>\n"
      ],
      "text/plain": [
       "\u001b[1;36m19\u001b[0m. \u001b[33mServerCertificate\u001b[0m  Operations: \u001b[1m[\u001b[0m\u001b[32m'GetServerCertificate'\u001b[0m, \u001b[32m'ListServerCertificates'\u001b[0m\u001b[1m]\u001b[0m\n"
      ]
     },
     "metadata": {},
     "output_type": "display_data"
    },
    {
     "data": {
      "text/html": [
       "<pre style=\"white-space:pre;overflow-x:auto;line-height:normal;font-family:Menlo,'DejaVu Sans Mono',consolas,'Courier New',monospace\"><span style=\"color: #008080; text-decoration-color: #008080; font-weight: bold\">20</span>. <span style=\"color: #808000; text-decoration-color: #808000\">ServiceLastAccessedDetails</span>  Operations: <span style=\"font-weight: bold\">[</span><span style=\"color: #008000; text-decoration-color: #008000\">'GetServiceLastAccessedDetails'</span><span style=\"font-weight: bold\">]</span>\n",
       "</pre>\n"
      ],
      "text/plain": [
       "\u001b[1;36m20\u001b[0m. \u001b[33mServiceLastAccessedDetails\u001b[0m  Operations: \u001b[1m[\u001b[0m\u001b[32m'GetServiceLastAccessedDetails'\u001b[0m\u001b[1m]\u001b[0m\n"
      ]
     },
     "metadata": {},
     "output_type": "display_data"
    },
    {
     "data": {
      "text/html": [
       "<pre style=\"white-space:pre;overflow-x:auto;line-height:normal;font-family:Menlo,'DejaVu Sans Mono',consolas,'Courier New',monospace\"><span style=\"color: #008080; text-decoration-color: #008080; font-weight: bold\">21</span>. <span style=\"color: #808000; text-decoration-color: #808000\">ServiceLastAccessedDetailsWithEntities</span>  Operations: <span style=\"font-weight: bold\">[</span><span style=\"color: #008000; text-decoration-color: #008000\">'GetServiceLastAccessedDetailsWithEntities'</span><span style=\"font-weight: bold\">]</span>\n",
       "</pre>\n"
      ],
      "text/plain": [
       "\u001b[1;36m21\u001b[0m. \u001b[33mServiceLastAccessedDetailsWithEntities\u001b[0m  Operations: \u001b[1m[\u001b[0m\u001b[32m'GetServiceLastAccessedDetailsWithEntities'\u001b[0m\u001b[1m]\u001b[0m\n"
      ]
     },
     "metadata": {},
     "output_type": "display_data"
    },
    {
     "data": {
      "text/html": [
       "<pre style=\"white-space:pre;overflow-x:auto;line-height:normal;font-family:Menlo,'DejaVu Sans Mono',consolas,'Courier New',monospace\"><span style=\"color: #008080; text-decoration-color: #008080; font-weight: bold\">22</span>. <span style=\"color: #808000; text-decoration-color: #808000\">ServiceLinkedRoleDeletionStatus</span>  Operations: <span style=\"font-weight: bold\">[</span><span style=\"color: #008000; text-decoration-color: #008000\">'GetServiceLinkedRoleDeletionStatus'</span><span style=\"font-weight: bold\">]</span>\n",
       "</pre>\n"
      ],
      "text/plain": [
       "\u001b[1;36m22\u001b[0m. \u001b[33mServiceLinkedRoleDeletionStatus\u001b[0m  Operations: \u001b[1m[\u001b[0m\u001b[32m'GetServiceLinkedRoleDeletionStatus'\u001b[0m\u001b[1m]\u001b[0m\n"
      ]
     },
     "metadata": {},
     "output_type": "display_data"
    },
    {
     "data": {
      "text/html": [
       "<pre style=\"white-space:pre;overflow-x:auto;line-height:normal;font-family:Menlo,'DejaVu Sans Mono',consolas,'Courier New',monospace\"><span style=\"color: #008080; text-decoration-color: #008080; font-weight: bold\">23</span>. <span style=\"color: #808000; text-decoration-color: #808000\">User</span>  Operations: <span style=\"font-weight: bold\">[</span><span style=\"color: #008000; text-decoration-color: #008000\">'GetUser'</span>, <span style=\"color: #008000; text-decoration-color: #008000\">'ListUsers'</span><span style=\"font-weight: bold\">]</span>\n",
       "</pre>\n"
      ],
      "text/plain": [
       "\u001b[1;36m23\u001b[0m. \u001b[33mUser\u001b[0m  Operations: \u001b[1m[\u001b[0m\u001b[32m'GetUser'\u001b[0m, \u001b[32m'ListUsers'\u001b[0m\u001b[1m]\u001b[0m\n"
      ]
     },
     "metadata": {},
     "output_type": "display_data"
    },
    {
     "data": {
      "text/html": [
       "<pre style=\"white-space:pre;overflow-x:auto;line-height:normal;font-family:Menlo,'DejaVu Sans Mono',consolas,'Courier New',monospace\"><span style=\"color: #008080; text-decoration-color: #008080; font-weight: bold\">24</span>. <span style=\"color: #808000; text-decoration-color: #808000\">UserPolicy</span>  Operations: <span style=\"font-weight: bold\">[</span><span style=\"color: #008000; text-decoration-color: #008000\">'GetUserPolicy'</span>, <span style=\"color: #008000; text-decoration-color: #008000\">'ListUserPolicies'</span><span style=\"font-weight: bold\">]</span>\n",
       "</pre>\n"
      ],
      "text/plain": [
       "\u001b[1;36m24\u001b[0m. \u001b[33mUserPolicy\u001b[0m  Operations: \u001b[1m[\u001b[0m\u001b[32m'GetUserPolicy'\u001b[0m, \u001b[32m'ListUserPolicies'\u001b[0m\u001b[1m]\u001b[0m\n"
      ]
     },
     "metadata": {},
     "output_type": "display_data"
    },
    {
     "data": {
      "text/html": [
       "<pre style=\"white-space:pre;overflow-x:auto;line-height:normal;font-family:Menlo,'DejaVu Sans Mono',consolas,'Courier New',monospace\"><span style=\"color: #008080; text-decoration-color: #008080; font-weight: bold\">25</span>. <span style=\"color: #808000; text-decoration-color: #808000\">AccessKeys</span>  Operations: <span style=\"font-weight: bold\">[</span><span style=\"color: #008000; text-decoration-color: #008000\">'ListAccessKeys'</span><span style=\"font-weight: bold\">]</span>\n",
       "</pre>\n"
      ],
      "text/plain": [
       "\u001b[1;36m25\u001b[0m. \u001b[33mAccessKeys\u001b[0m  Operations: \u001b[1m[\u001b[0m\u001b[32m'ListAccessKeys'\u001b[0m\u001b[1m]\u001b[0m\n"
      ]
     },
     "metadata": {},
     "output_type": "display_data"
    },
    {
     "data": {
      "text/html": [
       "<pre style=\"white-space:pre;overflow-x:auto;line-height:normal;font-family:Menlo,'DejaVu Sans Mono',consolas,'Courier New',monospace\"><span style=\"color: #008080; text-decoration-color: #008080; font-weight: bold\">26</span>. <span style=\"color: #808000; text-decoration-color: #808000\">AccountAliases</span>  Operations: <span style=\"font-weight: bold\">[</span><span style=\"color: #008000; text-decoration-color: #008000\">'ListAccountAliases'</span><span style=\"font-weight: bold\">]</span>\n",
       "</pre>\n"
      ],
      "text/plain": [
       "\u001b[1;36m26\u001b[0m. \u001b[33mAccountAliases\u001b[0m  Operations: \u001b[1m[\u001b[0m\u001b[32m'ListAccountAliases'\u001b[0m\u001b[1m]\u001b[0m\n"
      ]
     },
     "metadata": {},
     "output_type": "display_data"
    },
    {
     "data": {
      "text/html": [
       "<pre style=\"white-space:pre;overflow-x:auto;line-height:normal;font-family:Menlo,'DejaVu Sans Mono',consolas,'Courier New',monospace\"><span style=\"color: #008080; text-decoration-color: #008080; font-weight: bold\">27</span>. <span style=\"color: #808000; text-decoration-color: #808000\">AttachedGroupPolicies</span>  Operations: <span style=\"font-weight: bold\">[</span><span style=\"color: #008000; text-decoration-color: #008000\">'ListAttachedGroupPolicies'</span><span style=\"font-weight: bold\">]</span>\n",
       "</pre>\n"
      ],
      "text/plain": [
       "\u001b[1;36m27\u001b[0m. \u001b[33mAttachedGroupPolicies\u001b[0m  Operations: \u001b[1m[\u001b[0m\u001b[32m'ListAttachedGroupPolicies'\u001b[0m\u001b[1m]\u001b[0m\n"
      ]
     },
     "metadata": {},
     "output_type": "display_data"
    },
    {
     "data": {
      "text/html": [
       "<pre style=\"white-space:pre;overflow-x:auto;line-height:normal;font-family:Menlo,'DejaVu Sans Mono',consolas,'Courier New',monospace\"><span style=\"color: #008080; text-decoration-color: #008080; font-weight: bold\">28</span>. <span style=\"color: #808000; text-decoration-color: #808000\">AttachedRolePolicies</span>  Operations: <span style=\"font-weight: bold\">[</span><span style=\"color: #008000; text-decoration-color: #008000\">'ListAttachedRolePolicies'</span><span style=\"font-weight: bold\">]</span>\n",
       "</pre>\n"
      ],
      "text/plain": [
       "\u001b[1;36m28\u001b[0m. \u001b[33mAttachedRolePolicies\u001b[0m  Operations: \u001b[1m[\u001b[0m\u001b[32m'ListAttachedRolePolicies'\u001b[0m\u001b[1m]\u001b[0m\n"
      ]
     },
     "metadata": {},
     "output_type": "display_data"
    },
    {
     "data": {
      "text/html": [
       "<pre style=\"white-space:pre;overflow-x:auto;line-height:normal;font-family:Menlo,'DejaVu Sans Mono',consolas,'Courier New',monospace\"><span style=\"color: #008080; text-decoration-color: #008080; font-weight: bold\">29</span>. <span style=\"color: #808000; text-decoration-color: #808000\">AttachedUserPolicies</span>  Operations: <span style=\"font-weight: bold\">[</span><span style=\"color: #008000; text-decoration-color: #008000\">'ListAttachedUserPolicies'</span><span style=\"font-weight: bold\">]</span>\n",
       "</pre>\n"
      ],
      "text/plain": [
       "\u001b[1;36m29\u001b[0m. \u001b[33mAttachedUserPolicies\u001b[0m  Operations: \u001b[1m[\u001b[0m\u001b[32m'ListAttachedUserPolicies'\u001b[0m\u001b[1m]\u001b[0m\n"
      ]
     },
     "metadata": {},
     "output_type": "display_data"
    },
    {
     "data": {
      "text/html": [
       "<pre style=\"white-space:pre;overflow-x:auto;line-height:normal;font-family:Menlo,'DejaVu Sans Mono',consolas,'Courier New',monospace\"><span style=\"color: #008080; text-decoration-color: #008080; font-weight: bold\">30</span>. <span style=\"color: #808000; text-decoration-color: #808000\">EntitiesForPolicy</span>  Operations: <span style=\"font-weight: bold\">[</span><span style=\"color: #008000; text-decoration-color: #008000\">'ListEntitiesForPolicy'</span><span style=\"font-weight: bold\">]</span>\n",
       "</pre>\n"
      ],
      "text/plain": [
       "\u001b[1;36m30\u001b[0m. \u001b[33mEntitiesForPolicy\u001b[0m  Operations: \u001b[1m[\u001b[0m\u001b[32m'ListEntitiesForPolicy'\u001b[0m\u001b[1m]\u001b[0m\n"
      ]
     },
     "metadata": {},
     "output_type": "display_data"
    },
    {
     "data": {
      "text/html": [
       "<pre style=\"white-space:pre;overflow-x:auto;line-height:normal;font-family:Menlo,'DejaVu Sans Mono',consolas,'Courier New',monospace\"><span style=\"color: #008080; text-decoration-color: #008080; font-weight: bold\">31</span>. <span style=\"color: #808000; text-decoration-color: #808000\">GroupsForUser</span>  Operations: <span style=\"font-weight: bold\">[</span><span style=\"color: #008000; text-decoration-color: #008000\">'ListGroupsForUser'</span><span style=\"font-weight: bold\">]</span>\n",
       "</pre>\n"
      ],
      "text/plain": [
       "\u001b[1;36m31\u001b[0m. \u001b[33mGroupsForUser\u001b[0m  Operations: \u001b[1m[\u001b[0m\u001b[32m'ListGroupsForUser'\u001b[0m\u001b[1m]\u001b[0m\n"
      ]
     },
     "metadata": {},
     "output_type": "display_data"
    },
    {
     "data": {
      "text/html": [
       "<pre style=\"white-space:pre;overflow-x:auto;line-height:normal;font-family:Menlo,'DejaVu Sans Mono',consolas,'Courier New',monospace\"><span style=\"color: #008080; text-decoration-color: #008080; font-weight: bold\">32</span>. <span style=\"color: #808000; text-decoration-color: #808000\">InstanceProfileTags</span>  Operations: <span style=\"font-weight: bold\">[</span><span style=\"color: #008000; text-decoration-color: #008000\">'ListInstanceProfileTags'</span><span style=\"font-weight: bold\">]</span>\n",
       "</pre>\n"
      ],
      "text/plain": [
       "\u001b[1;36m32\u001b[0m. \u001b[33mInstanceProfileTags\u001b[0m  Operations: \u001b[1m[\u001b[0m\u001b[32m'ListInstanceProfileTags'\u001b[0m\u001b[1m]\u001b[0m\n"
      ]
     },
     "metadata": {},
     "output_type": "display_data"
    },
    {
     "data": {
      "text/html": [
       "<pre style=\"white-space:pre;overflow-x:auto;line-height:normal;font-family:Menlo,'DejaVu Sans Mono',consolas,'Courier New',monospace\"><span style=\"color: #008080; text-decoration-color: #008080; font-weight: bold\">33</span>. <span style=\"color: #808000; text-decoration-color: #808000\">InstanceProfilesForRole</span>  Operations: <span style=\"font-weight: bold\">[</span><span style=\"color: #008000; text-decoration-color: #008000\">'ListInstanceProfilesForRole'</span><span style=\"font-weight: bold\">]</span>\n",
       "</pre>\n"
      ],
      "text/plain": [
       "\u001b[1;36m33\u001b[0m. \u001b[33mInstanceProfilesForRole\u001b[0m  Operations: \u001b[1m[\u001b[0m\u001b[32m'ListInstanceProfilesForRole'\u001b[0m\u001b[1m]\u001b[0m\n"
      ]
     },
     "metadata": {},
     "output_type": "display_data"
    },
    {
     "data": {
      "text/html": [
       "<pre style=\"white-space:pre;overflow-x:auto;line-height:normal;font-family:Menlo,'DejaVu Sans Mono',consolas,'Courier New',monospace\"><span style=\"color: #008080; text-decoration-color: #008080; font-weight: bold\">34</span>. <span style=\"color: #808000; text-decoration-color: #808000\">MFADeviceTags</span>  Operations: <span style=\"font-weight: bold\">[</span><span style=\"color: #008000; text-decoration-color: #008000\">'ListMFADeviceTags'</span><span style=\"font-weight: bold\">]</span>\n",
       "</pre>\n"
      ],
      "text/plain": [
       "\u001b[1;36m34\u001b[0m. \u001b[33mMFADeviceTags\u001b[0m  Operations: \u001b[1m[\u001b[0m\u001b[32m'ListMFADeviceTags'\u001b[0m\u001b[1m]\u001b[0m\n"
      ]
     },
     "metadata": {},
     "output_type": "display_data"
    },
    {
     "data": {
      "text/html": [
       "<pre style=\"white-space:pre;overflow-x:auto;line-height:normal;font-family:Menlo,'DejaVu Sans Mono',consolas,'Courier New',monospace\"><span style=\"color: #008080; text-decoration-color: #008080; font-weight: bold\">35</span>. <span style=\"color: #808000; text-decoration-color: #808000\">MFADevices</span>  Operations: <span style=\"font-weight: bold\">[</span><span style=\"color: #008000; text-decoration-color: #008000\">'ListMFADevices'</span><span style=\"font-weight: bold\">]</span>\n",
       "</pre>\n"
      ],
      "text/plain": [
       "\u001b[1;36m35\u001b[0m. \u001b[33mMFADevices\u001b[0m  Operations: \u001b[1m[\u001b[0m\u001b[32m'ListMFADevices'\u001b[0m\u001b[1m]\u001b[0m\n"
      ]
     },
     "metadata": {},
     "output_type": "display_data"
    },
    {
     "data": {
      "text/html": [
       "<pre style=\"white-space:pre;overflow-x:auto;line-height:normal;font-family:Menlo,'DejaVu Sans Mono',consolas,'Courier New',monospace\"><span style=\"color: #008080; text-decoration-color: #008080; font-weight: bold\">36</span>. <span style=\"color: #808000; text-decoration-color: #808000\">OpenIDConnectProviderTags</span>  Operations: <span style=\"font-weight: bold\">[</span><span style=\"color: #008000; text-decoration-color: #008000\">'ListOpenIDConnectProviderTags'</span><span style=\"font-weight: bold\">]</span>\n",
       "</pre>\n"
      ],
      "text/plain": [
       "\u001b[1;36m36\u001b[0m. \u001b[33mOpenIDConnectProviderTags\u001b[0m  Operations: \u001b[1m[\u001b[0m\u001b[32m'ListOpenIDConnectProviderTags'\u001b[0m\u001b[1m]\u001b[0m\n"
      ]
     },
     "metadata": {},
     "output_type": "display_data"
    },
    {
     "data": {
      "text/html": [
       "<pre style=\"white-space:pre;overflow-x:auto;line-height:normal;font-family:Menlo,'DejaVu Sans Mono',consolas,'Courier New',monospace\"><span style=\"color: #008080; text-decoration-color: #008080; font-weight: bold\">37</span>. <span style=\"color: #808000; text-decoration-color: #808000\">PoliciesGrantingServiceAccess</span>  Operations: <span style=\"font-weight: bold\">[</span><span style=\"color: #008000; text-decoration-color: #008000\">'ListPoliciesGrantingServiceAccess'</span><span style=\"font-weight: bold\">]</span>\n",
       "</pre>\n"
      ],
      "text/plain": [
       "\u001b[1;36m37\u001b[0m. \u001b[33mPoliciesGrantingServiceAccess\u001b[0m  Operations: \u001b[1m[\u001b[0m\u001b[32m'ListPoliciesGrantingServiceAccess'\u001b[0m\u001b[1m]\u001b[0m\n"
      ]
     },
     "metadata": {},
     "output_type": "display_data"
    },
    {
     "data": {
      "text/html": [
       "<pre style=\"white-space:pre;overflow-x:auto;line-height:normal;font-family:Menlo,'DejaVu Sans Mono',consolas,'Courier New',monospace\"><span style=\"color: #008080; text-decoration-color: #008080; font-weight: bold\">38</span>. <span style=\"color: #808000; text-decoration-color: #808000\">PolicyTags</span>  Operations: <span style=\"font-weight: bold\">[</span><span style=\"color: #008000; text-decoration-color: #008000\">'ListPolicyTags'</span><span style=\"font-weight: bold\">]</span>\n",
       "</pre>\n"
      ],
      "text/plain": [
       "\u001b[1;36m38\u001b[0m. \u001b[33mPolicyTags\u001b[0m  Operations: \u001b[1m[\u001b[0m\u001b[32m'ListPolicyTags'\u001b[0m\u001b[1m]\u001b[0m\n"
      ]
     },
     "metadata": {},
     "output_type": "display_data"
    },
    {
     "data": {
      "text/html": [
       "<pre style=\"white-space:pre;overflow-x:auto;line-height:normal;font-family:Menlo,'DejaVu Sans Mono',consolas,'Courier New',monospace\"><span style=\"color: #008080; text-decoration-color: #008080; font-weight: bold\">39</span>. <span style=\"color: #808000; text-decoration-color: #808000\">RoleTags</span>  Operations: <span style=\"font-weight: bold\">[</span><span style=\"color: #008000; text-decoration-color: #008000\">'ListRoleTags'</span><span style=\"font-weight: bold\">]</span>\n",
       "</pre>\n"
      ],
      "text/plain": [
       "\u001b[1;36m39\u001b[0m. \u001b[33mRoleTags\u001b[0m  Operations: \u001b[1m[\u001b[0m\u001b[32m'ListRoleTags'\u001b[0m\u001b[1m]\u001b[0m\n"
      ]
     },
     "metadata": {},
     "output_type": "display_data"
    },
    {
     "data": {
      "text/html": [
       "<pre style=\"white-space:pre;overflow-x:auto;line-height:normal;font-family:Menlo,'DejaVu Sans Mono',consolas,'Courier New',monospace\"><span style=\"color: #008080; text-decoration-color: #008080; font-weight: bold\">40</span>. <span style=\"color: #808000; text-decoration-color: #808000\">SAMLProviderTags</span>  Operations: <span style=\"font-weight: bold\">[</span><span style=\"color: #008000; text-decoration-color: #008000\">'ListSAMLProviderTags'</span><span style=\"font-weight: bold\">]</span>\n",
       "</pre>\n"
      ],
      "text/plain": [
       "\u001b[1;36m40\u001b[0m. \u001b[33mSAMLProviderTags\u001b[0m  Operations: \u001b[1m[\u001b[0m\u001b[32m'ListSAMLProviderTags'\u001b[0m\u001b[1m]\u001b[0m\n"
      ]
     },
     "metadata": {},
     "output_type": "display_data"
    },
    {
     "data": {
      "text/html": [
       "<pre style=\"white-space:pre;overflow-x:auto;line-height:normal;font-family:Menlo,'DejaVu Sans Mono',consolas,'Courier New',monospace\"><span style=\"color: #008080; text-decoration-color: #008080; font-weight: bold\">41</span>. <span style=\"color: #808000; text-decoration-color: #808000\">ServerCertificateTags</span>  Operations: <span style=\"font-weight: bold\">[</span><span style=\"color: #008000; text-decoration-color: #008000\">'ListServerCertificateTags'</span><span style=\"font-weight: bold\">]</span>\n",
       "</pre>\n"
      ],
      "text/plain": [
       "\u001b[1;36m41\u001b[0m. \u001b[33mServerCertificateTags\u001b[0m  Operations: \u001b[1m[\u001b[0m\u001b[32m'ListServerCertificateTags'\u001b[0m\u001b[1m]\u001b[0m\n"
      ]
     },
     "metadata": {},
     "output_type": "display_data"
    },
    {
     "data": {
      "text/html": [
       "<pre style=\"white-space:pre;overflow-x:auto;line-height:normal;font-family:Menlo,'DejaVu Sans Mono',consolas,'Courier New',monospace\"><span style=\"color: #008080; text-decoration-color: #008080; font-weight: bold\">42</span>. <span style=\"color: #808000; text-decoration-color: #808000\">ServiceSpecificCredentials</span>  Operations: <span style=\"font-weight: bold\">[</span><span style=\"color: #008000; text-decoration-color: #008000\">'ListServiceSpecificCredentials'</span><span style=\"font-weight: bold\">]</span>\n",
       "</pre>\n"
      ],
      "text/plain": [
       "\u001b[1;36m42\u001b[0m. \u001b[33mServiceSpecificCredentials\u001b[0m  Operations: \u001b[1m[\u001b[0m\u001b[32m'ListServiceSpecificCredentials'\u001b[0m\u001b[1m]\u001b[0m\n"
      ]
     },
     "metadata": {},
     "output_type": "display_data"
    },
    {
     "data": {
      "text/html": [
       "<pre style=\"white-space:pre;overflow-x:auto;line-height:normal;font-family:Menlo,'DejaVu Sans Mono',consolas,'Courier New',monospace\"><span style=\"color: #008080; text-decoration-color: #008080; font-weight: bold\">43</span>. <span style=\"color: #808000; text-decoration-color: #808000\">SigningCertificates</span>  Operations: <span style=\"font-weight: bold\">[</span><span style=\"color: #008000; text-decoration-color: #008000\">'ListSigningCertificates'</span><span style=\"font-weight: bold\">]</span>\n",
       "</pre>\n"
      ],
      "text/plain": [
       "\u001b[1;36m43\u001b[0m. \u001b[33mSigningCertificates\u001b[0m  Operations: \u001b[1m[\u001b[0m\u001b[32m'ListSigningCertificates'\u001b[0m\u001b[1m]\u001b[0m\n"
      ]
     },
     "metadata": {},
     "output_type": "display_data"
    },
    {
     "data": {
      "text/html": [
       "<pre style=\"white-space:pre;overflow-x:auto;line-height:normal;font-family:Menlo,'DejaVu Sans Mono',consolas,'Courier New',monospace\"><span style=\"color: #008080; text-decoration-color: #008080; font-weight: bold\">44</span>. <span style=\"color: #808000; text-decoration-color: #808000\">UserTags</span>  Operations: <span style=\"font-weight: bold\">[</span><span style=\"color: #008000; text-decoration-color: #008000\">'ListUserTags'</span><span style=\"font-weight: bold\">]</span>\n",
       "</pre>\n"
      ],
      "text/plain": [
       "\u001b[1;36m44\u001b[0m. \u001b[33mUserTags\u001b[0m  Operations: \u001b[1m[\u001b[0m\u001b[32m'ListUserTags'\u001b[0m\u001b[1m]\u001b[0m\n"
      ]
     },
     "metadata": {},
     "output_type": "display_data"
    }
   ],
   "source": [
    "from balcony.nodes import ServiceNode\n",
    "from rich.jupyter import print\n",
    "service = ServiceNode('iam', session)\n",
    "resource_nodes = service.get_resource_nodes()\n",
    "print(f'AWS Service: {service.name}')\n",
    "for i, resource_node in enumerate(resource_nodes):\n",
    "    print(f\"{i}. [yellow]{resource_node.name}[/]  Operations: {resource_node.operation_names}\")"
   ]
  },
  {
   "cell_type": "markdown",
   "id": "d38c981d",
   "metadata": {},
   "source": []
  },
  {
   "cell_type": "code",
   "execution_count": null,
   "id": "29f7f00b",
   "metadata": {},
   "outputs": [],
   "source": []
  }
 ],
 "metadata": {
  "kernelspec": {
   "display_name": "Python 3.10.6 64-bit",
   "language": "python",
   "name": "python3"
  },
  "language_info": {
   "codemirror_mode": {
    "name": "ipython",
    "version": 3
   },
   "file_extension": ".py",
   "mimetype": "text/x-python",
   "name": "python",
   "nbconvert_exporter": "python",
   "pygments_lexer": "ipython3",
   "version": "3.10.7"
  },
  "vscode": {
   "interpreter": {
    "hash": "b0fa6594d8f4cbf19f97940f81e996739fb7646882a419484c72d19e05852a7e"
   }
  }
 },
 "nbformat": 4,
 "nbformat_minor": 5
}
